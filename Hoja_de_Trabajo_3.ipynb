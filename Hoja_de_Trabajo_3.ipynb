{
 "cells": [
  {
   "cell_type": "markdown",
   "metadata": {},
   "source": [
    "![Galileo](https://github.com/RainieroPV/Ciencia-de-Datos-en-Python/blob/main/images/GalileoLogo.PNG?raw=true  \"Galileo\")\n",
    "> #### Ciencia de Datos en Python, Seccion V\n",
    ">>  Rainiero Jose Parrales Vargas  \n",
    ">>  20032022.\n",
    "\n",
    "+ Aqui la definicion de la clase con los metodos completados"
   ]
  },
  {
   "cell_type": "code",
   "execution_count": 195,
   "metadata": {},
   "outputs": [],
   "source": [
    "class my_regresion:\n",
    "\n",
    "    def __init__(self,x,y):\n",
    "        numElementos = len(x)\n",
    "        multElementoXY = map(lambda x,y : x*y, x,y)\n",
    "        sumElementosXY = sum(multElementoXY)\n",
    "        alcuadradoX = map(lambda x : x*x, x)\n",
    "        sumDeXcuadrado = sum(alcuadradoX)\n",
    "        alcuadradoY = map(lambda x :x*x, y)\n",
    "        sumX = sum(x)\n",
    "        sumY = sum(y)\n",
    "        self.beta0=((numElementos*sumElementosXY)-(sumX*sumY))/((numElementos*sumDeXcuadrado)-(sumX*sumX))\n",
    "        #La formula en la hoja esta equivocada por lo que hice la que encontre en Internet y cuadra con EXCEL\n",
    "        self.beta1=(sumY-(self.beta0*sumX))/numElementos\n",
    "        self.x = x\n",
    "        self.y = y    \n",
    "        \n",
    "    def predict (self, val):\n",
    "        return ((self.beta0*val)+self.beta1) \n",
    "        \n",
    "    def predictN (self, vals):\n",
    "        return [self.predict(a) for a in (vals)]\n",
    "    \n",
    "    def r2 (self):\n",
    "        numElementosY = len(self.y)\n",
    "        numElementosX = len(self.x)\n",
    "        promedioY = sum(self.y)/numElementosY\n",
    "        promedioX = sum(self.x)/numElementosY\n",
    "        #print (self.y)\n",
    "        diferenciasEnY = list(map(lambda x : (x-promedioY), self.y))\n",
    "        diferenciasEnX = list(map(lambda x : (x-promedioX), self.x))       \n",
    "        varianzaY = sum(map(lambda x : (x*x), diferenciasEnY))/numElementosY\n",
    "        varianzaX = sum(map(lambda x : (x*x), diferenciasEnX))/numElementosX\n",
    "        coVarianza = sum(([a*b for a,b in zip(diferenciasEnY,diferenciasEnX)]))/numElementosY\n",
    "        return ((coVarianza*coVarianza)/(varianzaY*varianzaX))\n",
    "        \n",
    "    def r (self):\n",
    "         return (self.r2() ** 0.5)\n",
    "\n",
    "    def getAllParams (self):\n",
    "        return {'b0' : self.beta0, 'b1' : self.beta1, 'r2' : self.r2(), 'r' : self.r()}\n",
    "           \n",
    "    @classmethod\n",
    "    def from_file (cls , path):\n",
    "        archivo = open(path)\n",
    "        archivo.readline()\n",
    "        listaY = []\n",
    "        listaX = []\n",
    "        for linea in archivo:             \n",
    "                valor = str. rstrip(linea).split(\",\")\n",
    "                listaY.append(float(valor.pop(0)))\n",
    "                listaX.append(float(valor.pop(0)))\n",
    "        archivo.close() \n",
    "        return cls(listaX,listaY)\n",
    "\n",
    "        \n"
   ]
  },
  {
   "cell_type": "markdown",
   "metadata": {},
   "source": [
    "Como pueba mando a llamar a mi clase con un listado X y Y\n",
    "+ y = [134,145,142,149,144,160,156,157,168,166,167,171,174,183]\n",
    "+ x = [4,6,8,10,12,14,16,18,20,22,24,26,28,30]"
   ]
  },
  {
   "cell_type": "code",
   "execution_count": 196,
   "metadata": {},
   "outputs": [
    {
     "name": "stdout",
     "output_type": "stream",
     "text": [
      "R2 = 0.930129695390406\n",
      "R= 0.964432317682483\n",
      "getAllParams= {'b0': 1.6241758241758242, 'b1': 130.67472527472526, 'r2': 0.930129695390406, 'r': 0.964432317682483}\n",
      "predict(33)= 184.27252747252746\n",
      "predictN x[4,6,8,10,12,14,16,18,20,22,24,26,28,30] = [137.17142857142855, 140.4197802197802, 143.66813186813187, 146.9164835164835, 150.16483516483515, 153.4131868131868, 156.66153846153844, 159.90989010989009, 163.15824175824173, 166.4065934065934, 169.65494505494505, 172.9032967032967, 176.15164835164833, 179.39999999999998]\n"
     ]
    }
   ],
   "source": [
    "y = [134,145,142,149,144,160,156,157,168,166,167,171,174,183]\n",
    "x = [4,6,8,10,12,14,16,18,20,22,24,26,28,30]\n",
    "myobjeto = my_regresion(x,y)\n",
    "print (\"R2 =\",myobjeto.r2())\n",
    "print (\"R=\",myobjeto.r())\n",
    "print (\"getAllParams=\",myobjeto.getAllParams())\n",
    "print (\"predict(33)=\",myobjeto.predict(33))\n",
    "print (\"predictN x[4,6,8,10,12,14,16,18,20,22,24,26,28,30] =\",myobjeto.predictN(x))\n"
   ]
  },
  {
   "cell_type": "markdown",
   "metadata": {},
   "source": [
    "+ Ahora probandolo con el archivo de prueba "
   ]
  },
  {
   "cell_type": "code",
   "execution_count": 199,
   "metadata": {},
   "outputs": [
    {
     "name": "stdout",
     "output_type": "stream",
     "text": [
      "R2 = 0.6118750508500704\n",
      "R= 0.782224424861606\n",
      "getAllParams= {'b0': 0.04753664043301965, 'b1': 7.032593549127711, 'r2': 0.6118750508500704, 'r': 0.782224424861606}\n",
      "predict(180)= 15.589188827071249\n",
      "predictN x[215.4,284.3,50,164.5,19.6,168.4,222.4,276.9,248.4,170.2] = [17.271985898400146, 20.547260424235198, 9.409425570778694, 14.852370900359443, 7.964311701614896, 15.037763798048221, 17.60474238143128, 20.195489285030852, 18.840695032689794, 15.123329750827654]\n"
     ]
    }
   ],
   "source": [
    "constructor2 = my_regresion.from_file(\"Advertising.csv\")\n",
    "print (\"R2 =\",constructor2.r2())\n",
    "print (\"R=\",constructor2.r())\n",
    "print (\"getAllParams=\",constructor2.getAllParams())\n",
    "print (\"predict(180)=\",constructor2.predict(180))\n",
    "# algunos valores en X\n",
    "x = [215.4,284.3,50,164.5,19.6,168.4,222.4,276.9,248.4,170.2]\n",
    "print (\"predictN x[215.4,284.3,50,164.5,19.6,168.4,222.4,276.9,248.4,170.2] =\",constructor2.predictN(x))\n"
   ]
  }
 ],
 "metadata": {
  "kernelspec": {
   "display_name": "Python 3",
   "language": "python",
   "name": "python3"
  },
  "language_info": {
   "codemirror_mode": {
    "name": "ipython",
    "version": 3
   },
   "file_extension": ".py",
   "mimetype": "text/x-python",
   "name": "python",
   "nbconvert_exporter": "python",
   "pygments_lexer": "ipython3",
   "version": "3.8.5"
  }
 },
 "nbformat": 4,
 "nbformat_minor": 4
}
