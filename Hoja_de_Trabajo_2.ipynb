{
 "cells": [
  {
   "cell_type": "markdown",
   "metadata": {},
   "source": [
    "![Galileo](https://github.com/RainieroPV/Ciencia-de-Datos-en-Python/blob/main/images/GalileoLogo.PNG?raw=true  \"Galileo\")\n",
    "> #### Ciencia de Datos en Python, Seccion V\n",
    ">>  Rainiero Jose Parrales Vargas  \n",
    ">>  20032022.\n",
    "\n",
    "# Hoja de Trabajo # 2 - Sintaxis, Listas y Tuplas\n",
    "___\n",
    "\n",
    "**Entregable:** Su entregable debera ser un link al repositorio de git que contiene el Jupyter Notebook donde resolvio los ejercicios planteados.  \n",
    "\n",
    "**Parte #1** - (Programacion y Sintaxis): A continuacion se le muestran una lista de ejercicios que debera completar utilizando Python, debe usar Markdown para indicar donde inicia cada uno de los ejercicios.\n",
    "\n",
    "\n",
    "1. Haga un programa en Python que reciba de parametro un numero de segundos y que despliegue en pantalla, las horas, minutos y segundos que representan. Por ejemplo:\n",
    "+ Si el numero de segundos recibidos fuera: 2743 entonces su programa deberıa desplegar: Horas: 0, Minutos: 45, Segundos: 43 \n",
    "+ Si el numero de segundos recibidos fuera 5871: Horas: 1, Minutos: 37, Segundos: 51  \n",
    "\n",
    "Recuerde manejar excepciones y errores que considere necesarios.\n"
   ]
  },
  {
   "cell_type": "code",
   "execution_count": 30,
   "metadata": {},
   "outputs": [
    {
     "name": "stdin",
     "output_type": "stream",
     "text": [
      "Ingrese el numero de segundos a convertir:\n",
      " 45\n"
     ]
    },
    {
     "name": "stdout",
     "output_type": "stream",
     "text": [
      "Horas:  0 , Minutos:  0 , Segundos:  45\n"
     ]
    }
   ],
   "source": [
    "value = input(\"Ingrese el numero de segundos a convertir:\\n\")\n",
    "try: \n",
    "    totalSegundos = int(value)\n",
    "    if totalSegundos > 0:\n",
    "        horas = totalSegundos//3600\n",
    "        minutos = totalSegundos//60 - (horas*60)\n",
    "        segundos = totalSegundos - minutos*60 - horas*3600\n",
    "        print(\"Horas: \",horas,\", Minutos: \",minutos,\", Segundos: \",segundos)\n",
    "    else:    \n",
    "        print(\"El valor ingresado es negativo =\",value)\n",
    "except ValueError:\n",
    "    print(\"El valor ingresado es invalido =\",value)\n",
    "except:\n",
    "    print(\"Error general del valor ingresado =\",value)"
   ]
  },
  {
   "cell_type": "markdown",
   "metadata": {},
   "source": [
    "2. Haga una funcion en Python que dado un numero entre 1 y 20. Y un caracter cualquiera despliegue cuatro patrones triangulares."
   ]
  },
  {
   "cell_type": "code",
   "execution_count": 11,
   "metadata": {},
   "outputs": [
    {
     "name": "stdin",
     "output_type": "stream",
     "text": [
      "Ingrese un numero entre 1 a 20: 3\n",
      "Ingrese un caracter: RR\n"
     ]
    },
    {
     "name": "stdout",
     "output_type": "stream",
     "text": [
      "Lo ingresado No es 1 caracter = RR\n"
     ]
    }
   ],
   "source": [
    "valueRow = input(\"Ingrese un numero entre 1 a 20:\")\n",
    "valueChar = input(\"Ingrese un caracter:\")\n",
    "try:\n",
    "    numRow = int(valueRow)\n",
    "    if numRow < 1 or numRow > 20:\n",
    "        print(\"El valor ingresado esta fuera de los parametros =\",valueRow)\n",
    "    else:\n",
    "        if len(valueChar) == 1:\n",
    "            space = \" \"*numRow\n",
    "            i = 1\n",
    "            recorrer = numRow\n",
    "            while i <= numRow:\n",
    "                print(valueChar*i,space,valueChar*recorrer,space,valueChar*recorrer,space,valueChar*i)\n",
    "                i += 1\n",
    "                recorrer -=1\n",
    "        else:\n",
    "            print(\"Lo ingresado No es 1 caracter =\",valueChar)\n",
    "except ValueError:\n",
    "    print(\"El valor ingresado es invalido =\",valueRow)\n",
    "except:\n",
    "    print(\"Error general de los valores ingresados\")"
   ]
  },
  {
   "cell_type": "markdown",
   "metadata": {},
   "source": [
    "3. Haga un programa en Python que la fecha de nacimiento de una persona (puede ingresar por separado cada valor, es decir pedir primero dıa, luego mes y luego anio), despliegue la edad de la persona en anios, meses y dıas. Su resultado puede ser aproximado"
   ]
  },
  {
   "cell_type": "code",
   "execution_count": 195,
   "metadata": {},
   "outputs": [
    {
     "name": "stdin",
     "output_type": "stream",
     "text": [
      "Ingresar la fecha de nacimiento (dd/mm/yyyy):  19/02/1985\n"
     ]
    },
    {
     "name": "stdout",
     "output_type": "stream",
     "text": [
      "anios = 35 , meses = 11 , dias = 29\n"
     ]
    }
   ],
   "source": [
    "from datetime import date\n",
    "import time\n",
    "fecha = input(\"Ingresar la fecha de nacimiento (dd/mm/yyyy): \")\n",
    "try:\n",
    "    fechaValida = time.strptime(fecha, '%d/%m/%Y')\n",
    "    hoy = date.today()\n",
    "    nacimiento = date(fechaValida.tm_year,fechaValida.tm_mon,fechaValida.tm_mday)\n",
    "    anios = hoy.year - nacimiento.year\n",
    "    meses = hoy.month - nacimiento.month\n",
    "    if nacimiento > hoy:\n",
    "            print(\"Ingreso una fecha futura =\",fecha)\n",
    "    else:\n",
    "        if meses < 0:\n",
    "            dias = nacimiento.day-hoy.day\n",
    "            anios -=1\n",
    "            if dias < 1:\n",
    "                print(\"anios =\",anios,\", meses =\",12-nacimiento.month+hoy.month,\", dias =\",abs(nacimiento.day-hoy.day))\n",
    "            else:\n",
    "                #mes menos\n",
    "                calculoMesMenos = date(hoy.year,hoy.month-1,nacimiento.day)\n",
    "                diasFaltantes = hoy-calculoMesMenos\n",
    "                print(\"anios =\",anios,\", meses =\",11-nacimiento.month+hoy.month,\", dias =\",diasFaltantes.days)\n",
    "        else:\n",
    "            dias = nacimiento.day-hoy.day\n",
    "            if dias < 1:\n",
    "                print(\"anios =\",anios,\", meses =\",meses,\", dias =\",abs(nacimiento.day-hoy.day))\n",
    "            else:\n",
    "                #mes menos\n",
    "                calculoMesMenos = date(hoy.year,hoy.month-1,nacimiento.day)\n",
    "                diasFaltantes = hoy-calculoMesMenos\n",
    "                if meses == 0 and nacimiento.day-hoy.day > 0:\n",
    "                    print(\"anios =\",anios-1,\", meses =\",11-meses,\", dias =\",diasFaltantes.days)\n",
    "                else:\n",
    "                    print(\"anios =\",anios,\", meses =\",meses-1,\", dias =\",diasFaltantes.days)        \n",
    "except ValueError:\n",
    "    print(\"Ingreso una fecha invalida =\",fecha)\n",
    "except:\n",
    "    print(\"Error general en la fecha ingresadas\")\n"
   ]
  },
  {
   "cell_type": "markdown",
   "metadata": {},
   "source": [
    "**Parte #2** - (Estructuras de Datos): Resuelva los siguientes ejercicios sobre estructuras de datos\n",
    "en Python.\n",
    "1. Escriba una funcion en Python que dada una tupla de elementos (numeros o letras) esta se convierta a un string. Tomar nota del siguiente ejemplo:\n",
    "+ Si la entrada fuera: (10, 20, 40, 5, 70)\n",
    "+ La salida deberia ser: 102040570"
   ]
  },
  {
   "cell_type": "code",
   "execution_count": 216,
   "metadata": {},
   "outputs": [
    {
     "name": "stdout",
     "output_type": "stream",
     "text": [
      "hola como estan? 102040570\n"
     ]
    }
   ],
   "source": [
    " def covertstring(input):\n",
    "    return \"\".join(map(str,input))\n",
    "\n",
    "#Tupla a ingresar\n",
    "#tupla = (10, 20, 40, 5, 70)\n",
    "tupla = (\"hola\", \" como \", \"estan\", \"? \", 10, 20, 40, 5, 70)\n",
    "#llamar a funcion\n",
    "print(covertstring(tupla))"
   ]
  },
  {
   "cell_type": "markdown",
   "metadata": {},
   "source": [
    "2. Cree un programa en Python que dada una lista de tuplas, elimine las tuplas que estan vacias.  \n",
    "Tomar nota del siguiente ejemplo:\n",
    "+ Si la lista fuera: [(), (), ('X',), ('a', 'b'), ('a', 'b', 'c'), ('d')]\n",
    "+ El resultado deber´ıa ser: [('X',), ('a', 'b'), ('a', 'b', 'c'), 'd']"
   ]
  },
  {
   "cell_type": "code",
   "execution_count": 223,
   "metadata": {},
   "outputs": [
    {
     "name": "stdout",
     "output_type": "stream",
     "text": [
      "[(), (), ('X',), ('a', 'b'), ('a', 'b', 'c'), 'd']\n",
      "[('X',), ('a', 'b'), ('a', 'b', 'c'), 'd']\n"
     ]
    }
   ],
   "source": [
    "#lista a ingresar\n",
    "lista = [(), (), ('X',), ('a', 'b'), ('a', 'b', 'c'), ('d')]\n",
    "print(lista)\n",
    "lista = [l for l in lista if l]\n",
    "print(lista)"
   ]
  },
  {
   "cell_type": "markdown",
   "metadata": {},
   "source": [
    "3. Cree una funcion en Python que dada una tupla de tuplas con numeros, produzca una tupla con el promedio de cada tupla individual. Tomar nota del siguiente ejemplo:\n",
    "+ Si la tupla de entrada fuera: ((10, 10, 10, 12), (30, 45, 56, 45), (81, 80, 39, 32))\n",
    "+ El resultado deberia ser: (10.5, 44, 58)"
   ]
  },
  {
   "cell_type": "code",
   "execution_count": 250,
   "metadata": {},
   "outputs": [
    {
     "name": "stdout",
     "output_type": "stream",
     "text": [
      "((10, 10, 10, 12), (30, 45, 56, 45), (81, 80, 39, 32))\n",
      "(10.5, 44, 58)\n"
     ]
    }
   ],
   "source": [
    " def promedio(input):\n",
    "        regresar =[]\n",
    "        for x in input:\n",
    "            prom = sum(x)/len(x)\n",
    "            if sum(x)%len(x) == 0:\n",
    "                regresar.append(int(prom))\n",
    "            else:\n",
    "                regresar.append(prom)\n",
    "        return tuple(regresar)\n",
    "    \n",
    "\n",
    "#tupla a ingresar\n",
    "tupla = ((10, 10, 10, 12), (30, 45, 56, 45), (81, 80, 39, 32))\n",
    "#tupla = ( (30, 45, 56, 45), (81, 80, 39, 32))\n",
    "print(tupla)\n",
    "print(promedio(tupla))\n"
   ]
  }
 ],
 "metadata": {
  "kernelspec": {
   "display_name": "Python 3",
   "language": "python",
   "name": "python3"
  },
  "language_info": {
   "codemirror_mode": {
    "name": "ipython",
    "version": 3
   },
   "file_extension": ".py",
   "mimetype": "text/x-python",
   "name": "python",
   "nbconvert_exporter": "python",
   "pygments_lexer": "ipython3",
   "version": "3.8.5"
  }
 },
 "nbformat": 4,
 "nbformat_minor": 4
}
